pd.describe(percentiles =[0.25,0.5,0.75],include=['number'])
#다양한 통계랑 보여주는 메서드이다.
#percentiles 옵션은 기본값으로 설정되어 있는 [0.25, 0.5, 0.75]값을 변경할 수 있다
#include 옵션은 결과를 요약할 수 있게하는 타입을 설정할 수 있다, 기본값은 ['number']이며 object로 변경할 수 있다

train_df[['Pclass','Survived']].groupby('Pclass',as_index=False).mean().sort_values(by='Survived',ascending=False)
# train_df의 Pclass, Survived 특성을 Pclass를 기준으로 SUrvived값을 평균하고 index값을 부여한다.
# sor_values() 메서드를 사용하여 Survived 값을 정렬한다. ascending=False로 하여 내림차순으로 설정한다.

g = sns.FacetGrid(train_df,col='Survived')
g.map(plt.hist,'Age',bins=20)
#변수 g는 gird의 약자를 사용하고, 'Survived'에 따라 그래프를 열로 나누어 그린다
#g(grid)의 type은 seaborn.axisgrid.FacetGrid이며 map함수를 사용하여 그래프의 방식은 plt.hist(히스토그램) x축은 Age, y축의 bins는 20으로 한다.

#아래의 코드는 위에서 만든 그래프를 다른 방식으로 그리는방법이다.
fig, axes = plt.subplots(1,2,figsize=(7,3))
y = list(range(0,80,20))
train_df[train_df['Survived']==0]['Age'].plot.hist(ax=axes[0],bins=20)
axes[0].set_title('Survived=0')
axes[0].set_yticks(y)
axes[0].set_ylabel('')
train_df[train_df['Survived']==1]['Age'].plot.hist(ax=axes[1],bins=20)
axes[1].set_title('Survived=1')
axes[1].set_yticks(y)
axes[1].set_ylabel('')
plt.show()

#---------------------------------------------------------------------
grid = sns.FacetGrid(data=train_df, row='Pclass',col='Survived',aspect=1.6,size=2.2)
grid.map(plt.hist, 'Age',alpha=0.5, bins=20)
grid.add_legend()

#아래의 코드는 위에서 만든 그래프를 다른 방식으로 그리는방법이다.
fig, axes = plt.subplots(3,2,figsize=(10,8))
y = list(range(0,60,20))
train_df.loc[(train_df['Survived']==0) & (train_df['Pclass']==1),'Age'].plot.hist(ax=axes[0,0],bins=20,alpha=0.5)
axes[0,0].set_title('Pclass = 1 | Survivied = 0')
axes[0,0].set_yticks(y)
axes[0,0].set_ylabel('')
train_df.loc[(train_df['Survived']==1) & (train_df['Pclass']==1),'Age'].plot.hist(ax=axes[0,1],bins=20,alpha=0.5)
axes[0,1].set_title('Pclass = 1 | Survivied = 1')
axes[0,1].set_yticks(y)
axes[0,1].set_ylabel('')
train_df.loc[(train_df['Survived']==0) & (train_df['Pclass']==2),'Age'].plot.hist(ax=axes[1,0],bins=20,alpha=0.5)
axes[1,0].set_title('Pclass = 2 | Survivied = 0')
axes[1,0].set_yticks(y)
axes[1,0].set_ylabel('')
train_df.loc[(train_df['Survived']==1) & (train_df['Pclass']==2),'Age'].plot.hist(ax=axes[1,1],bins=20,alpha=0.5)
axes[1,1].set_title('Pclass = 2 | Survivied = 1')
axes[1,1].set_yticks(y)
axes[1,1].set_ylabel('')
train_df.loc[(train_df['Survived']==0) & (train_df['Pclass']==3),'Age'].plot.hist(ax=axes[2,0],bins=20,alpha=0.5)
axes[2,0].set_title('Pclass = 3 | Survivied = 0')
axes[2,0].set_yticks(y)
axes[2,0].set_ylabel('')
train_df.loc[(train_df['Survived']==1) & (train_df['Pclass']==3),'Age'].plot.hist(ax=axes[2,1],bins=20,alpha=0.5)
axes[2,1].set_title('Pclass = 3 | Survivied = 1')
axes[2,1].set_yticks(y)
axes[2,1].set_ylabel('')
plt.subplots_adjust(hspace=0.6,wspace=0.2)
plt.show()
#그래프의 모양은 다르지만 같은 정보를 제공하는 그래프
sns.violinplot(x='Pclass',y='Age',hue='Survived',data=train_df, split=True)
plt.show()
#---------------------------------------------------------------------
grid = sns.FacetGrid(data=train_df, row='Embarked',size=2.2,aspect=1.6)
grid.map(sns.pointplot , 'Pclass','Survived','Sex',palette='deep')
grid.add_legend()
#아래의 코드는 위에서 만든 그래프를 다른 방식으로 그리는방법이다.
sns.factorplot('Pclass','Survived',hue='Sex',col='Embarked',data=data)
plt.show()
                     
                     
                     
                     
