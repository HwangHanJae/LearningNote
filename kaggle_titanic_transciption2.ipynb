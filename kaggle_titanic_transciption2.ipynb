pd.describe(percentiles =[0.25,0.5,0.75],include=['number'])
#다양한 통계랑 보여주는 메서드이다.
#percentiles 옵션은 기본값으로 설정되어 있는 [0.25, 0.5, 0.75]값을 변경할 수 있다
#include 옵션은 결과를 요약할 수 있게하는 타입을 설정할 수 있다, 기본값은 ['number']이며 object로 변경할 수 있다

train_df[['Pclass','Survived']].groupby('Pclass',as_index=False).mean().sort_values(by='Survived',ascending=False)
# train_df의 Pclass, Survived 특성을 Pclass를 기준으로 SUrvived값을 평균하고 index값을 부여한다.
# sor_values() 메서드를 사용하여 Survived 값을 정렬한다. ascending=False로 하여 내림차순으로 설정한다.
