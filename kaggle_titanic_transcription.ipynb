#사용할 라이브러리 임포트
import numpy as np
import pandas as pd
import matplotlib.pyplot as plt   # 시각화 라이브러리 
import seaborn as sns             # 시각화 라이브러리
plt.style.use("fivethirtyeight")  # 'fivethirtyeight'이라는 style 테마를 사용
import warnings                   
warnings.filterwarnings('ignore') # 버젼 차이로 인해 출력되는 에러 문구등을 무시하겠다는 명령어
%matplotlib inline

#캐글의 Api를 받아와서 구글 코랩에서 Kaggle의 데이터셋을 사용하기 위하는 명령어들
!pip install kaggle --upgrade 
from google.colab import files
files.upload()

!mkdir -p ~/.kaggle
!cp kaggle.json ~/.kaggle/
!chmod 600 ~/.kaggle/kaggle.json
!kaggle competitions download -c titanic
#-------------------------------------------------------------

data = pd.read_csv("train.csv") #캐글의 타이타닉 데이터 불러오기


data['Initial'] = 0 #'Initial' Series를 0으로 만들기

#'Name' Series에서 영어로 구성되어있으며 마지막에 .(dot)으로 끝나는 단어를 찾아서 'Initial' Series에 할당
for i in data:
  data[Initial] = data['Name'].str.extract('([A-Za-z]+)\.') 
