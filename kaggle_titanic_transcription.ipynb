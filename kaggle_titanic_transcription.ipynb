#사용할 라이브러리 임포트
import numpy as np
import pandas as pd
import matplotlib.pyplot as plt   # 시각화 라이브러리 
import seaborn as sns             # 시각화 라이브러리
plt.style.use("fivethirtyeight")  # 'fivethirtyeight'이라는 style 테마를 사용
import warnings                   
warnings.filterwarnings('ignore') # 버젼 차이로 인해 출력되는 에러 문구등을 무시하겠다는 명령어
%matplotlib inline

#캐글의 Api를 받아와서 구글 코랩에서 Kaggle의 데이터셋을 사용하기 위하는 명령어들
!pip install kaggle --upgrade 
from google.colab import files
files.upload()

!mkdir -p ~/.kaggle
!cp kaggle.json ~/.kaggle/
!chmod 600 ~/.kaggle/kaggle.json
!kaggle competitions download -c titanic
#-------------------------------------------------------------
# Kaggle의 EDA To Prediction(DieTanic) 링크 : https://www.kaggle.com/ash316/eda-to-prediction-dietanic 
# 필사를 하면서 새롭게 알게되는 내용

data = pd.read_csv("train.csv") #캐글의 타이타닉 데이터 불러오기


data['Initial'] = 0 #'Initial' Series를 0으로 만들기

#'Name' Series에서 영어로 구성되어있으며 마지막에 .(dot)으로 끝나는 단어를 찾아서 'Initial' Series에 할당
for i in data:
  data['Initial'] = data['Name'].str.extract('([A-Za-z]+)\.') 

plt.close() #현재 창에서 figure를 닫을 때 사용하는 함수, 매개변수로 None이면 현재 figure

pd.crosstab(index=data.SibSp, columns=data.Pclass).style.background_gradient(cmap='summer_r') #파라미터로 index와 columns를 받음
pd.crosstab(data.SibSp, data.Pclass).style.background_gradient(cmap='summer_r') #파라미터인 index와 columns 설정을 생략해도 가능

sns.barplot(x=data.Parch, y=data.Survived, ax=axes[0]) #아래의 코드와 같은 코드지만 다르게 작성할 수 있음
sns.barplot('Parch','Survived',data=data, ax=axes[0])

sns.factorplot(x=data.Parch, y=data.Survived,data=data, ax=axes[1]) #아래의 코드와 같은 코드지만 다르게 작성할 수 있음
sns.factorplot(x='Parch', y='Survived',data=data, ax=axes[1])

data.Fare == data['Fare'] # 두 코드는 같은 기능을 함 Series를 표현함

data[data.Pclass==1].Fare # 이 코드는 Pclass 특성에서 1등급인 Fare의 Series를 반환함

sns.heatmap() #데이터들을 색상으로 표현해주는 그래프
data.corr # pandas.DataFrame.corr()이고, corr은 correlation(상관관계)의 줄임말이다

data.loc[data['Age'] <= 16, 'Age_band']=0 # Age 특성에서 16보다 이하인 값을 모두 찾고, 조건에 맞는 Age_band의 특성을 0으로 만들겠다는 의미
data['Age_band'].value_counts() # Age_band Series의 값별 개수 세기
Series.to_frame() # Seires를 DataFrame으로 바꾸는 함수

pd.qcut(data['Fare'],4) #Fare Series 데이터를 4개의 범위로 균등하게 나누어주고 반환함
